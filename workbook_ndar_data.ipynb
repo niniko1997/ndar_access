{
 "cells": [
  {
   "cell_type": "markdown",
   "metadata": {},
   "source": [
    "# The Adventures of Retrieving NDAR Data"
   ]
  },
  {
   "cell_type": "markdown",
   "metadata": {},
   "source": [
    "## Getting Access to NDAR Data"
   ]
  },
  {
   "cell_type": "markdown",
   "metadata": {},
   "source": [
    "First things first, it's really exciting that we have such a HUUUUUGE database of brain scans and genetic information available through NDAR. So I know that you're already thinking about all the awesome science you could do with this (nerd). But there's some steps we need to take to get there. So let's get started. \n",
    "\n",
    "Visit http://ndar.nih.gov/ and proceed to log in. The log in button can be found in the top right hand corner of the website. \n",
    "\n",
    "Once logged in, the page will automatically redirect you to your profile. Underneath the 'logout' button, there is a navigation menu. On there, click on Data Permissions.\n",
    "\n",
    "Now you can see which datasets you have access to and request ones that you wish to work with by clicking 'Request Access' under Actions."
   ]
  },
  {
   "cell_type": "markdown",
   "metadata": {},
   "source": [
    "![alt text](data_request.png \"Title\")"
   ]
  },
  {
   "cell_type": "markdown",
   "metadata": {},
   "source": [
    "You should receive an e-mail once your have been granted access to the requested datasets."
   ]
  },
  {
   "cell_type": "markdown",
   "metadata": {},
   "source": [
    "## Choosing Data"
   ]
  },
  {
   "cell_type": "markdown",
   "metadata": {},
   "source": [
    "Alright, you've got access to some data now. You're feeling fresh and excited. But boy oh boy, little do you know about how difficult it is to navigate the NDAR website. Let me help you out. \n",
    "\n",
    "On the main navigation bar, click on 'Query'. There you can see a pretty pie charts of the data demographics but don't be fooled. Underneath the pie charts, where it says 'Select Data', you can narrow down your choices via phenotypes or available neuroimaging or you can just select all. \n",
    "\n",
    "Once you've chosen the basic parameters for your data selection, click on the bright orange 'Show Results' button.\n",
    "\n",
    "This will lead to magically possess the power to select the 'Download Data' button."
   ]
  },
  {
   "cell_type": "markdown",
   "metadata": {},
   "source": [
    "![alt text](data_select.png \"Title\")"
   ]
  },
  {
   "cell_type": "markdown",
   "metadata": {},
   "source": [
    "Baaam. A new page loads with immense lists and you don't know what's going on. Don't worry. Go through the list and deselect any data that you don't care for. This way you can weed out any data that you don't want and make the download process easier."
   ]
  },
  {
   "cell_type": "markdown",
   "metadata": {},
   "source": [
    "![alt text](data_list.png \"Title\")"
   ]
  },
  {
   "cell_type": "markdown",
   "metadata": {},
   "source": [
    "After you've carefully mulled over the list and you're ready to get the download rolling, click on 'Create Package'. In the pop-up screen, name your package and DON'T FORGET TO CHECK THE 'Include data files' BOX. This may or may not have happened to me. Then press on 'Create Package'."
   ]
  },
  {
   "cell_type": "markdown",
   "metadata": {},
   "source": [
    "![alt text](data_createpack.png \"Title\")"
   ]
  },
  {
   "cell_type": "markdown",
   "metadata": {},
   "source": [
    "Next Stop: Download the Download Manager https://ndar.nih.gov/DownloadManager.html. This thing will keep track of all your packages. Once you've downloaded the Download Manager, open this bad boy up, press 'Run' and when asked for you log in, enter your information. \n",
    "This should give a dashboard with all your packages. "
   ]
  },
  {
   "cell_type": "markdown",
   "metadata": {},
   "source": [
    "![alt text](data_dashboard.png \"Title\")"
   ]
  },
  {
   "cell_type": "markdown",
   "metadata": {},
   "source": [
    "As you can see, coolPackage is being created. You might have to wait a couple up hours before your package is Ready To Download."
   ]
  },
  {
   "cell_type": "markdown",
   "metadata": {},
   "source": [
    "## Download Data"
   ]
  },
  {
   "cell_type": "markdown",
   "metadata": {},
   "source": [
    "Once your package is Ready to Download, check its size.  "
   ]
  },
  {
   "cell_type": "markdown",
   "metadata": {},
   "source": [
    "IF:  \n",
    "</tab> your package is 200GB or less, you can check it and download it immediately onto your local machine. You have completed this mission, you're done. Congratulations. Have fun doing craaazy science.\n",
    "\n",
    "ELSE:  \n",
    "</tab> because your package is over 200GB, prepare to bang your head against the wall because you're about to spiral down into the abyss.  "
   ]
  },
  {
   "cell_type": "markdown",
   "metadata": {},
   "source": [
    "### Data over 200GB: miNDAR and Oracle"
   ]
  },
  {
   "cell_type": "markdown",
   "metadata": {},
   "source": [
    "First, go back to your profile on the ndar.nih.gov website. In the navigation bar under the logout button, click on 'Packages'. There, you will also see the different packages that you've created thus far. Under 'Action' next to your package, select 'create miNDAR'. Create a new password for this miNDAR package and press 'Submit'.\n",
    "\n",
    "![alt text](data_miNDAR.png \"Title\")\n",
    "\n",
    "After a couple of hours, you should receive an e-mail from NDAR people, saying that your miNDAR has been created. This e-mail contains information about your package ID, login name, host etc. It's a goldmine.\n",
    "\n",
    "Now it's time to download the the Oracle SQL Develper. Lucky you, I've provided the link right here: http://www.oracle.com/technetwork/developer-tools/sql-developer/downloads/index.html. Choose the Oracle Developer that works with your operating systems. If you don't have an Oracle account, you will need to sign up for one to complete this download. It might be tedious, but it's completely free.\n",
    "\n",
    "Once you've completed the SQL Download, open it up and choose all your settings! When you're done with those steps, you should see a screen looking something like this:\n",
    "\n",
    "![alt text](data_sql.png \"Title\")\n",
    "\n",
    "Located in the top left hand corner, press the green + button. Enter the following information:  \n",
    "1. Connection Name: can be anything your heart desires\n",
    "2. Username: this is the user name that was contained in the e-mail you received after you created your miNDAR\n",
    "3. Passwork: this is the passwork you set when you created your miNDAR\n",
    "4. Hostname: also contained in your e-mail\n",
    "5. Port: also contained in your e-mail\n",
    "6. Select Servicename and enter ORCL\n",
    "\n",
    "Told you that e-mail was a goldmine. Now everything should look a little like this:  \n",
    "\n",
    "![alt text](data_connection.png \"Title\")\n"
   ]
  },
  {
   "cell_type": "markdown",
   "metadata": {},
   "source": [
    "On the left hand side, the connection you just created should show up like this:   \n",
    "\n",
    "![alt text](data_myconnections.png \"Title\")"
   ]
  },
  {
   "cell_type": "markdown",
   "metadata": {},
   "source": [
    "Click on your connection name, expand it and you can file a ton of tables in that collection that it makes you feel a little bit dizzy. Go into 'Tables' and find the table named 'IMAGE03'. In the navigation bar above the search bar (where it says 'Columns', 'Data', 'Model', 'Contraints, etc.) select Data. This file contains all the weblinks to Amazon Web Services where your files are stored. \n",
    "\n",
    "Right next to the search bar, there is a 'Actions...' button. Click on it and select 'Export'. \n",
    "\n",
    "![alt text](data_export.png \"Title\")\n",
    "\n"
   ]
  },
  {
   "cell_type": "markdown",
   "metadata": {},
   "source": [
    "In the pop-up window, under 'Format', choose csv and under 'Save As', select Separate Files as shown in the image below:  \n",
    "\n",
    "![alt text](data_exportcsv.png \"Title\")\n",
    "\n",
    "You can name the file whatever you like, follow the directions and save the file on your local machine."
   ]
  },
  {
   "cell_type": "markdown",
   "metadata": {},
   "source": [
    "\n",
    "Next, you have to e-mail the NDAR help desk at NDAHelp@mail.nih.gov. Tell them that your package is over 200GB and inquire about the best way to proceed. Most likely, they will give you access to their cloud and you can download the data from there.\n",
    "\n"
   ]
  },
  {
   "cell_type": "markdown",
   "metadata": {},
   "source": [
    "### Data over 200GB: Cloud Access"
   ]
  },
  {
   "cell_type": "markdown",
   "metadata": {},
   "source": [
    "After the NDAR help desk has given you could access, think about where it is you want to download the data. If you want it on your local machine, open your terminal. If you want it on a highperformance supercomputer, ssh into it. \n",
    "\n",
    "If you're using conda, then you can install aws as follows:  "
   ]
  },
  {
   "cell_type": "raw",
   "metadata": {},
   "source": [
    "conda install -c conda-forge awscli"
   ]
  },
  {
   "cell_type": "markdown",
   "metadata": {},
   "source": [
    "Otherwise, you can use pip and do:"
   ]
  },
  {
   "cell_type": "raw",
   "metadata": {},
   "source": [
    "pip install awscli --upgrade --user"
   ]
  },
  {
   "cell_type": "markdown",
   "metadata": {},
   "source": [
    "Once you've installed awscli, you need to get the command line download manager. In your command line, type"
   ]
  },
  {
   "cell_type": "raw",
   "metadata": {},
   "source": [
    "wget https://ndar.nih.gov/jnlps/download_manager_client/downloadmanager.zip"
   ]
  },
  {
   "cell_type": "markdown",
   "metadata": {},
   "source": [
    "This should download a zip file named 'downloadmanager.zip' into your current directory. To unzip the file, type"
   ]
  },
  {
   "cell_type": "raw",
   "metadata": {},
   "source": [
    "unzip downloadmanager.zip"
   ]
  },
  {
   "cell_type": "code",
   "execution_count": null,
   "metadata": {
    "collapsed": true
   },
   "outputs": [],
   "source": []
  }
 ],
 "metadata": {
  "kernelspec": {
   "display_name": "Python 3",
   "language": "python",
   "name": "python3"
  },
  "language_info": {
   "codemirror_mode": {
    "name": "ipython",
    "version": 3
   },
   "file_extension": ".py",
   "mimetype": "text/x-python",
   "name": "python",
   "nbconvert_exporter": "python",
   "pygments_lexer": "ipython3",
   "version": "3.6.1"
  }
 },
 "nbformat": 4,
 "nbformat_minor": 2
}
